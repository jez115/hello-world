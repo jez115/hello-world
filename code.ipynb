{
 "cells": [
  {
   "cell_type": "code",
   "execution_count": 3,
   "id": "b1fc166d-821e-4468-a38a-ef9e206601b9",
   "metadata": {},
   "outputs": [
    {
     "name": "stdin",
     "output_type": "stream",
     "text": [
      "What is your name?  jennifer\n",
      "What is your current bank account balance (in float)? -2\n"
     ]
    },
    {
     "name": "stdout",
     "output_type": "stream",
     "text": [
      "Hello, jennifer. You are poor\n"
     ]
    }
   ],
   "source": [
    "#asking name\n",
    "name = input(\"What is your name? \")\n",
    "#asking balance\n",
    "balance = float(input(\"What is your current bank account balance (in float)?\"))\n",
    "if balance >= 0: \n",
    "    print(\"Hello, \" + name + \". You are rich!\") \n",
    "else: \n",
    "    print(\"Hello, \" + name + \". You are poor\")"
   ]
  }
 ],
 "metadata": {
  "kernelspec": {
   "display_name": "Python 3 (ipykernel)",
   "language": "python",
   "name": "python3"
  },
  "language_info": {
   "codemirror_mode": {
    "name": "ipython",
    "version": 3
   },
   "file_extension": ".py",
   "mimetype": "text/x-python",
   "name": "python",
   "nbconvert_exporter": "python",
   "pygments_lexer": "ipython3",
   "version": "3.11.13"
  }
 },
 "nbformat": 4,
 "nbformat_minor": 5
}
